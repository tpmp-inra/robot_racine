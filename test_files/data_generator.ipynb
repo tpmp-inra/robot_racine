{
 "nbformat": 4,
 "nbformat_minor": 2,
 "metadata": {
  "language_info": {
   "name": "python",
   "codemirror_mode": {
    "name": "ipython",
    "version": 3
   },
   "version": "3.7.4-final"
  },
  "orig_nbformat": 2,
  "file_extension": ".py",
  "mimetype": "text/x-python",
  "name": "python",
  "npconvert_exporter": "python",
  "pygments_lexer": "ipython3",
  "version": 3,
  "kernelspec": {
   "name": "python37464bitenvvenv8a4aa456117544b2950e30a7b303a45c",
   "display_name": "Python 3.7.4 64-bit ('env': venv)"
  }
 },
 "cells": [
  {
   "cell_type": "markdown",
   "metadata": {},
   "source": [
    "# Test data generator"
   ]
  },
  {
   "cell_type": "markdown",
   "metadata": {},
   "source": [
    "## Init"
   ]
  },
  {
   "cell_type": "code",
   "execution_count": 26,
   "metadata": {},
   "outputs": [
    {
     "output_type": "execute_result",
     "data": {
      "text/plain": "'c:\\\\Users\\\\mavia\\\\Documents\\\\code\\\\python\\\\robot_racine\\\\test_files'"
     },
     "metadata": {},
     "execution_count": 26
    }
   ],
   "source": [
    "import os\n",
    "\n",
    "os.getcwd()"
   ]
  },
  {
   "cell_type": "markdown",
   "metadata": {},
   "source": [
    "## Imports"
   ]
  },
  {
   "cell_type": "code",
   "execution_count": 53,
   "metadata": {},
   "outputs": [],
   "source": [
    "import pandas as pd\n",
    "import numpy as np\n",
    "import json\n",
    "from uuid import uuid4\n",
    "import random\n",
    "from datetime import datetime as dt\n",
    "import datetime\n",
    "import time"
   ]
  },
  {
   "cell_type": "markdown",
   "metadata": {},
   "source": [
    "## Create test data_ins"
   ]
  },
  {
   "cell_type": "markdown",
   "metadata": {},
   "source": [
    "### Data In 1"
   ]
  },
  {
   "cell_type": "code",
   "execution_count": 28,
   "metadata": {},
   "outputs": [
    {
     "output_type": "execute_result",
     "data": {
      "text/plain": "       experiment      plant_name  position  allow_capture\n0  rr_test_1_2003  test_1_plant_1         1          False\n1  rr_test_1_2003  test_1_plant_2         2           True\n2  rr_test_1_2003  test_1_plant_3         3          False\n3  rr_test_1_2003  test_1_plant_4         4          False\n4  rr_test_1_2003  test_1_plant_5         5          False",
      "text/html": "<div>\n<style scoped>\n    .dataframe tbody tr th:only-of-type {\n        vertical-align: middle;\n    }\n\n    .dataframe tbody tr th {\n        vertical-align: top;\n    }\n\n    .dataframe thead th {\n        text-align: right;\n    }\n</style>\n<table border=\"1\" class=\"dataframe\">\n  <thead>\n    <tr style=\"text-align: right;\">\n      <th></th>\n      <th>experiment</th>\n      <th>plant_name</th>\n      <th>position</th>\n      <th>allow_capture</th>\n    </tr>\n  </thead>\n  <tbody>\n    <tr>\n      <th>0</th>\n      <td>rr_test_1_2003</td>\n      <td>test_1_plant_1</td>\n      <td>1</td>\n      <td>False</td>\n    </tr>\n    <tr>\n      <th>1</th>\n      <td>rr_test_1_2003</td>\n      <td>test_1_plant_2</td>\n      <td>2</td>\n      <td>True</td>\n    </tr>\n    <tr>\n      <th>2</th>\n      <td>rr_test_1_2003</td>\n      <td>test_1_plant_3</td>\n      <td>3</td>\n      <td>False</td>\n    </tr>\n    <tr>\n      <th>3</th>\n      <td>rr_test_1_2003</td>\n      <td>test_1_plant_4</td>\n      <td>4</td>\n      <td>False</td>\n    </tr>\n    <tr>\n      <th>4</th>\n      <td>rr_test_1_2003</td>\n      <td>test_1_plant_5</td>\n      <td>5</td>\n      <td>False</td>\n    </tr>\n  </tbody>\n</table>\n</div>"
     },
     "metadata": {},
     "execution_count": 28
    }
   ],
   "source": [
    "df1_plant_count = 30\n",
    "df1 = pd.DataFrame(\n",
    "    data={\n",
    "        \"experiment\": [\"rr_test_1_2003\" for _ in range(df1_plant_count)],\n",
    "        \"plant_name\": [f\"test_1_plant_{i+1}\" for i in range(df1_plant_count)],\n",
    "        \"position\": [i + 1 for i in range(df1_plant_count)],\n",
    "        \"allow_capture\": [\n",
    "            random.randint(0, 1) == 1 for i in range(df1_plant_count)\n",
    "        ]\n",
    "    }\n",
    ")\n",
    "df1.to_csv(\"./data_in_exp_1.csv\", index=False)\n",
    "df1.head()"
   ]
  },
  {
   "cell_type": "markdown",
   "metadata": {},
   "source": [
    "### Data In 2"
   ]
  },
  {
   "cell_type": "code",
   "execution_count": 29,
   "metadata": {},
   "outputs": [
    {
     "output_type": "execute_result",
     "data": {
      "text/plain": "       experiment      plant_name  position  allow_capture\n0  rr_test_2_2003  test_2_plant_1         1           True\n1  rr_test_2_2003  test_2_plant_2         2          False\n2  rr_test_2_2003  test_2_plant_3         3           True\n3  rr_test_2_2003  test_2_plant_4         4          False\n4  rr_test_2_2003  test_2_plant_5         5           True",
      "text/html": "<div>\n<style scoped>\n    .dataframe tbody tr th:only-of-type {\n        vertical-align: middle;\n    }\n\n    .dataframe tbody tr th {\n        vertical-align: top;\n    }\n\n    .dataframe thead th {\n        text-align: right;\n    }\n</style>\n<table border=\"1\" class=\"dataframe\">\n  <thead>\n    <tr style=\"text-align: right;\">\n      <th></th>\n      <th>experiment</th>\n      <th>plant_name</th>\n      <th>position</th>\n      <th>allow_capture</th>\n    </tr>\n  </thead>\n  <tbody>\n    <tr>\n      <th>0</th>\n      <td>rr_test_2_2003</td>\n      <td>test_2_plant_1</td>\n      <td>1</td>\n      <td>True</td>\n    </tr>\n    <tr>\n      <th>1</th>\n      <td>rr_test_2_2003</td>\n      <td>test_2_plant_2</td>\n      <td>2</td>\n      <td>False</td>\n    </tr>\n    <tr>\n      <th>2</th>\n      <td>rr_test_2_2003</td>\n      <td>test_2_plant_3</td>\n      <td>3</td>\n      <td>True</td>\n    </tr>\n    <tr>\n      <th>3</th>\n      <td>rr_test_2_2003</td>\n      <td>test_2_plant_4</td>\n      <td>4</td>\n      <td>False</td>\n    </tr>\n    <tr>\n      <th>4</th>\n      <td>rr_test_2_2003</td>\n      <td>test_2_plant_5</td>\n      <td>5</td>\n      <td>True</td>\n    </tr>\n  </tbody>\n</table>\n</div>"
     },
     "metadata": {},
     "execution_count": 29
    }
   ],
   "source": [
    "df2_plant_count = 20\n",
    "df2 = pd.DataFrame(\n",
    "    data={\n",
    "        \"experiment\": [\"rr_test_2_2003\" for _ in range(df2_plant_count)],\n",
    "        \"plant_name\": [f\"test_2_plant_{i+1}\" for i in range(df2_plant_count)],\n",
    "        \"position\": [i + 1 for i in range(df2_plant_count)],\n",
    "        \"allow_capture\": [\n",
    "            random.randint(0, 1) == 1 for i in range(df2_plant_count)\n",
    "        ]\n",
    "    }\n",
    ")\n",
    "df2.to_csv(\"./data_in_exp_2.csv\", index=False)\n",
    "df2.head()"
   ]
  },
  {
   "cell_type": "markdown",
   "metadata": {},
   "source": [
    "### Data In 3"
   ]
  },
  {
   "cell_type": "code",
   "execution_count": 30,
   "metadata": {},
   "outputs": [
    {
     "output_type": "execute_result",
     "data": {
      "text/plain": "       experiment      plant_name  position  allow_capture\n0  rr_test_3_2003  test_3_plant_1        21          False\n1  rr_test_3_2003  test_3_plant_2        22           True\n2  rr_test_3_2003  test_3_plant_3        23           True\n3  rr_test_3_2003  test_3_plant_4        24          False\n4  rr_test_3_2003  test_3_plant_5        25           True",
      "text/html": "<div>\n<style scoped>\n    .dataframe tbody tr th:only-of-type {\n        vertical-align: middle;\n    }\n\n    .dataframe tbody tr th {\n        vertical-align: top;\n    }\n\n    .dataframe thead th {\n        text-align: right;\n    }\n</style>\n<table border=\"1\" class=\"dataframe\">\n  <thead>\n    <tr style=\"text-align: right;\">\n      <th></th>\n      <th>experiment</th>\n      <th>plant_name</th>\n      <th>position</th>\n      <th>allow_capture</th>\n    </tr>\n  </thead>\n  <tbody>\n    <tr>\n      <th>0</th>\n      <td>rr_test_3_2003</td>\n      <td>test_3_plant_1</td>\n      <td>21</td>\n      <td>False</td>\n    </tr>\n    <tr>\n      <th>1</th>\n      <td>rr_test_3_2003</td>\n      <td>test_3_plant_2</td>\n      <td>22</td>\n      <td>True</td>\n    </tr>\n    <tr>\n      <th>2</th>\n      <td>rr_test_3_2003</td>\n      <td>test_3_plant_3</td>\n      <td>23</td>\n      <td>True</td>\n    </tr>\n    <tr>\n      <th>3</th>\n      <td>rr_test_3_2003</td>\n      <td>test_3_plant_4</td>\n      <td>24</td>\n      <td>False</td>\n    </tr>\n    <tr>\n      <th>4</th>\n      <td>rr_test_3_2003</td>\n      <td>test_3_plant_5</td>\n      <td>25</td>\n      <td>True</td>\n    </tr>\n  </tbody>\n</table>\n</div>"
     },
     "metadata": {},
     "execution_count": 30
    }
   ],
   "source": [
    "df3_plant_count = 20\n",
    "df3 = pd.DataFrame(\n",
    "    data={\n",
    "        \"experiment\": [\"rr_test_3_2003\" for _ in range(df3_plant_count)],\n",
    "        \"plant_name\": [f\"test_3_plant_{i+1}\" for i in range(df3_plant_count)],\n",
    "        \"position\": [i + 1 + df2_plant_count for i in range(df3_plant_count)],\n",
    "        \"allow_capture\": [\n",
    "            random.randint(0, 1) == 1 for i in range(df3_plant_count)\n",
    "        ]\n",
    "    }\n",
    ")\n",
    "df3.to_csv(\"./data_in_exp_3.csv\", index=False)\n",
    "df3.head()"
   ]
  },
  {
   "cell_type": "markdown",
   "metadata": {},
   "source": [
    "## Create test jobs"
   ]
  },
  {
   "cell_type": "code",
   "execution_count": 35,
   "metadata": {},
   "outputs": [
    {
     "output_type": "execute_result",
     "data": {
      "text/plain": "['test_1_plant_1',\n 'test_1_plant_2',\n 'test_1_plant_3',\n 'test_1_plant_4',\n 'test_1_plant_5',\n 'test_1_plant_6',\n 'test_1_plant_7',\n 'test_1_plant_8',\n 'test_1_plant_9',\n 'test_1_plant_10',\n 'test_1_plant_11',\n 'test_1_plant_12',\n 'test_1_plant_13',\n 'test_1_plant_14',\n 'test_1_plant_15',\n 'test_1_plant_16',\n 'test_1_plant_17',\n 'test_1_plant_18',\n 'test_1_plant_19',\n 'test_1_plant_20',\n 'test_1_plant_21',\n 'test_1_plant_22',\n 'test_1_plant_23',\n 'test_1_plant_24',\n 'test_1_plant_25',\n 'test_1_plant_26',\n 'test_1_plant_27',\n 'test_1_plant_28',\n 'test_1_plant_29',\n 'test_1_plant_30']"
     },
     "metadata": {},
     "execution_count": 35
    }
   ],
   "source": [
    "list(df1.plant_name)"
   ]
  },
  {
   "cell_type": "code",
   "execution_count": 55,
   "metadata": {},
   "outputs": [],
   "source": [
    "job_list = {\n",
    "    \"jobs\": [\n",
    "        {\n",
    "            \"name\": \"Job 1\",\n",
    "            \"state\": \"active\",\n",
    "            \"guid\": str(uuid4()),\n",
    "            \"description\": \"Job executed with all plants from test experiment 1\",\n",
    "            \"owner\": \"no one\",\n",
    "            \"mail_to\": [\n",
    "                \"no_one@some.mail\", \n",
    "                \"no_two@some.mail\", \n",
    "                \"no_three@some.mail\"\n",
    "            ],\n",
    "            \"plants\": list(df1.plant_name),\n",
    "            \"repetition_mode\": \"every\",\n",
    "            \"repetition_unit\": \"minutes\",\n",
    "            \"repetition_value\": 30,\n",
    "            \"timestamp_start\": dt.now().strftime(\"%Y/%m/%d %H:%M:%S\"),\n",
    "            \"timestamp_end\": (\n",
    "                dt.now() \n",
    "                + datetime.timedelta(days=10)\n",
    "            ).strftime(\"%Y/%m/%d %H:%M:%S\")\n",
    "        },\n",
    "        {\n",
    "            \"name\": \"Job 2\",\n",
    "            \"state\": \"active\",\n",
    "            \"guid\": str(uuid4()),\n",
    "            \"description\": \"Job executed with all plants from test experiment 2\",\n",
    "            \"owner\": \"two one\",\n",
    "            \"mail_to\": [\"two_one@some.mail\"],\n",
    "            \"plants\": list(df2.plant_name),\n",
    "            \"repetition_mode\": \"at\",\n",
    "            \"repetition_unit\": \"hours\",\n",
    "            \"repetition_value\": 8,\n",
    "            \"timestamp_start\": dt.now().strftime(\"%Y/%m/%d %H:%M:%S\"),\n",
    "            \"timestamp_end\": (\n",
    "                dt.now() \n",
    "                + datetime.timedelta(weeks=10)\n",
    "            ).strftime(\"%Y/%m/%d %H:%M:%S\")\n",
    "        },\n",
    "        {\n",
    "            \"name\": \"Job 3\",\n",
    "            \"state\": \"active\",\n",
    "            \"guid\": str(uuid4()),\n",
    "            \"description\": \"Job executed with all plants from test experiment 3\",\n",
    "            \"owner\": \"some one\",\n",
    "            \"mail_to\": [\n",
    "                \"that_one@some.mail\",\n",
    "                \"those_two@some.mail\",\n",
    "                \"thee_three@some.mail\"\n",
    "            ],\n",
    "            \"plants\": list(df3.plant_name),\n",
    "            \"repetition_mode\": \"every\",\n",
    "            \"repetition_unit\": \"day\",\n",
    "            \"repetition_value\": 1,\n",
    "            \"timestamp_start\": dt.now().strftime(\"%Y/%m/%d %H:%M:%S\"),\n",
    "            \"timestamp_end\": (\n",
    "                dt.now() \n",
    "                + datetime.timedelta(weeks=5)\n",
    "            ).strftime(\"%Y/%m/%d %H:%M:%S\")\n",
    "        },\n",
    "        {\n",
    "            \"name\": \"Job 4\",\n",
    "            \"state\": \"active\",\n",
    "            \"guid\": str(uuid4()),\n",
    "            \"description\": \"Job executed with all plants from test experiment 2 &3\",\n",
    "            \"owner\": \"mehh\",\n",
    "            \"mail_to\": [\"hi@some.mail\", \"ha@some.mail\", \"hu@some.mail\"],\n",
    "            \"plants\": list(df2.plant_name) + list(df3.plant_name),\n",
    "            \"repetition_mode\": \"at\",\n",
    "            \"repetition_unit\": \"minutes\",\n",
    "            \"repetition_value\": 15,\n",
    "            \"timestamp_start\": dt.now().strftime(\"%Y/%m/%d %H:%M:%S\"),\n",
    "            \"timestamp_end\": (\n",
    "                dt.now() \n",
    "                + datetime.timedelta(days=4)\n",
    "            ).strftime(\"%Y/%m/%d %H:%M:%S\")\n",
    "        },\n",
    "        {\n",
    "            \"name\": \"Job 5\",\n",
    "            \"state\": \"active\",\n",
    "            \"guid\": str(uuid4()),\n",
    "            \"description\": \"Job executed with plants from test experiment 2 & 3\",\n",
    "            \"owner\": \"mehh two\",\n",
    "            \"mail_to\": [\"mi2@some.mail\", \"ha@some.mail\", \"hu@some.mail\"],\n",
    "            \"plants\": list(df2.plant_name)[:15] + list(df3.plant_name)[5:],\n",
    "            \"repetition_mode\": \"at\",\n",
    "            \"repetition_unit\": \"minutes\",\n",
    "            \"repetition_value\": 15,\n",
    "            \"timestamp_start\": \"2020/04/03 15:00:48\",\n",
    "            \"timestamp_end\": (\n",
    "                dt.now() \n",
    "                + datetime.timedelta(weeks=2)\n",
    "            ).strftime(\"%Y/%m/%d %H:%M:%S\")\n",
    "        }\n",
    "    ]\n",
    "}"
   ]
  },
  {
   "cell_type": "code",
   "execution_count": 56,
   "metadata": {},
   "outputs": [],
   "source": [
    "with open(\"./test_jobs.json\", \"w\") as f:\n",
    "    json.dump(job_list, f, indent=2)"
   ]
  },
  {
   "cell_type": "markdown",
   "metadata": {},
   "source": [
    "## Create test log"
   ]
  },
  {
   "cell_type": "code",
   "execution_count": 47,
   "metadata": {},
   "outputs": [],
   "source": [
    "jobs_count = 100\n",
    "logs = []\n",
    "for _ in range(jobs_count):\n",
    "    idx = random.randint(0, len(job_list[\"jobs\"]) - 1)\n",
    "    start_time = dt.now().strftime(\"%Y%m%d %H:%M:%S\")\n",
    "    time.sleep(random.randint(1, 5))\n",
    "    end_time = dt.now().strftime(\"%Y%m%d %H:%M:%S\")\n",
    "    logs.append(f\"{start_time} - {job_list['jobs'][idx]['name']} Started\")\n",
    "    logs.append(f\"{end_time} - {job_list['jobs'][idx]['name']} Ended\")\n",
    "    time.sleep(random.randint(1, 5))"
   ]
  },
  {
   "cell_type": "code",
   "execution_count": 49,
   "metadata": {},
   "outputs": [
    {
     "output_type": "execute_result",
     "data": {
      "text/plain": "['20200326 16:41:15 - Job 4 Started',\n '20200326 16:41:19 - Job 4 Ended',\n '20200326 16:41:20 - Job 3 Started',\n '20200326 16:41:22 - Job 3 Ended',\n '20200326 16:41:26 - Job 2 Started']"
     },
     "metadata": {},
     "execution_count": 49
    }
   ],
   "source": [
    "logs[10:15]"
   ]
  },
  {
   "cell_type": "code",
   "execution_count": 50,
   "metadata": {},
   "outputs": [],
   "source": [
    "with open(\"./test_logs.txt\", \"w\") as outfile:\n",
    "    outfile.write(\"\\n\".join(logs))"
   ]
  },
  {
   "cell_type": "code",
   "execution_count": null,
   "metadata": {},
   "outputs": [],
   "source": []
  }
 ]
}